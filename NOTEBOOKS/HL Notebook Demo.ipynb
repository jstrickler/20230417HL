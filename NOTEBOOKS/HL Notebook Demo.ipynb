{
 "cells": [
  {
   "cell_type": "markdown",
   "id": "fcefc51c",
   "metadata": {},
   "source": [
    "# HL Notebook Demo\n",
    "We are learning fun things about notebooks!\n",
    "\n",
    "This is *really important*\n",
    "\n",
    "We hav"
   ]
  },
  {
   "cell_type": "markdown",
   "id": "2cb24d8b",
   "metadata": {},
   "source": [
    "## Standard imports"
   ]
  },
  {
   "cell_type": "code",
   "execution_count": 1,
   "id": "7559dc02",
   "metadata": {},
   "outputs": [],
   "source": [
    "import pandas as pd"
   ]
  },
  {
   "cell_type": "markdown",
   "id": "b68a722b",
   "metadata": {},
   "source": [
    "## Code starts here"
   ]
  },
  {
   "cell_type": "code",
   "execution_count": 2,
   "id": "3b3bf389",
   "metadata": {},
   "outputs": [
    {
     "name": "stdout",
     "output_type": "stream",
     "text": [
      "Hello, notebook world\n"
     ]
    }
   ],
   "source": [
    "print(\"Hello, notebook world\")\n",
    "color = \"blue\""
   ]
  },
  {
   "cell_type": "code",
   "execution_count": 3,
   "id": "814499e1",
   "metadata": {},
   "outputs": [
    {
     "name": "stdout",
     "output_type": "stream",
     "text": [
      "blue\n"
     ]
    }
   ],
   "source": [
    "print(color)"
   ]
  },
  {
   "cell_type": "code",
   "execution_count": null,
   "id": "be7e094d",
   "metadata": {},
   "outputs": [],
   "source": []
  }
 ],
 "metadata": {
  "kernelspec": {
   "display_name": "Python 3 (ipykernel)",
   "language": "python",
   "name": "python3"
  },
  "language_info": {
   "codemirror_mode": {
    "name": "ipython",
    "version": 3
   },
   "file_extension": ".py",
   "mimetype": "text/x-python",
   "name": "python",
   "nbconvert_exporter": "python",
   "pygments_lexer": "ipython3",
   "version": "3.9.12"
  }
 },
 "nbformat": 4,
 "nbformat_minor": 5
}
